{
  "nbformat": 4,
  "nbformat_minor": 0,
  "metadata": {
    "colab": {
      "name": "current.ipynb",
      "provenance": []
    },
    "kernelspec": {
      "name": "python3",
      "display_name": "Python 3"
    }
  },
  "cells": [
    {
      "cell_type": "code",
      "metadata": {
        "id": "EswrOv0rjt3C"
      },
      "source": [
        "#learning from tensorflow documentation tutorial\n",
        "#link -> https://colab.research.google.com/github/tensorflow/docs/blob/master/site/en/tutorials/quickstart/beginner.ipynb#scrollTo=cnqOZtUp1YR_"
      ],
      "execution_count": 49,
      "outputs": []
    },
    {
      "cell_type": "code",
      "metadata": {
        "id": "8N5T8Lfe8Heq"
      },
      "source": [
        "import tensorflow as tf"
      ],
      "execution_count": 27,
      "outputs": []
    },
    {
      "cell_type": "code",
      "metadata": {
        "id": "KlmjDQ5qbS-3"
      },
      "source": [
        "#loading mnist dataset. converting integers to float-point numbers\n",
        "mnist = tf.keras.datasets.mnist\n",
        "\n",
        "(x_train, y_train), (x_test, y_test) = mnist.load_data()\n",
        "x_train, x_test = x_train/255.0, x_test/255.0"
      ],
      "execution_count": 37,
      "outputs": []
    },
    {
      "cell_type": "code",
      "metadata": {
        "id": "QZxBv0azbroe"
      },
      "source": [
        "#building tf.keras.Sequential model by stacking layers. \n",
        "#choosing optimizer and loss function for training\n",
        "\n",
        "model = tf.keras.models.Sequential([\n",
        "                                    tf.keras.layers.Flatten(input_shape=(28,28)),\n",
        "                                    tf.keras.layers.Dense(128, activation='relu'),\n",
        "                                    tf.keras.layers.Dropout(0.2),\n",
        "                                    tf.keras.layers.Dense(10)\n",
        "\n",
        "])"
      ],
      "execution_count": 38,
      "outputs": []
    },
    {
      "cell_type": "code",
      "metadata": {
        "colab": {
          "base_uri": "https://localhost:8080/"
        },
        "id": "_jkKlTWad7Zx",
        "outputId": "98ac60ba-a558-4783-f5d7-109fa92361e6"
      },
      "source": [
        "#model returns a vector of 'logits' or 'log-odds' scores for each class\n",
        "\n",
        "predictions = model(x_train[:1]).numpy()\n",
        "predictions"
      ],
      "execution_count": 40,
      "outputs": [
        {
          "output_type": "execute_result",
          "data": {
            "text/plain": [
              "array([[ 0.74046624, -0.06890673, -0.06143235,  0.3190996 , -0.05083753,\n",
              "         0.36332723, -0.35811532,  0.42456567,  0.29377538, -0.33509678]],\n",
              "      dtype=float32)"
            ]
          },
          "metadata": {
            "tags": []
          },
          "execution_count": 40
        }
      ]
    },
    {
      "cell_type": "code",
      "metadata": {
        "colab": {
          "base_uri": "https://localhost:8080/"
        },
        "id": "IP0-cOMFerKo",
        "outputId": "1c745602-dd65-4134-8d8d-8ca6478799e1"
      },
      "source": [
        "#tf.nn.softmax function converts these logits into \"probabilities\" for each class\n",
        "\n",
        "tf.nn.softmax(predictions).numpy()"
      ],
      "execution_count": 41,
      "outputs": [
        {
          "output_type": "execute_result",
          "data": {
            "text/plain": [
              "array([[0.17445429, 0.07765608, 0.07823868, 0.1144681 , 0.07907201,\n",
              "        0.11964437, 0.05815322, 0.12720019, 0.11160567, 0.05950735]],\n",
              "      dtype=float32)"
            ]
          },
          "metadata": {
            "tags": []
          },
          "execution_count": 41
        }
      ]
    },
    {
      "cell_type": "code",
      "metadata": {
        "id": "Sw7yqwf4e47p"
      },
      "source": [
        "loss_fn = tf.keras.losses.SparseCategoricalCrossentropy(from_logits=True)"
      ],
      "execution_count": 42,
      "outputs": []
    },
    {
      "cell_type": "code",
      "metadata": {
        "colab": {
          "base_uri": "https://localhost:8080/"
        },
        "id": "I_H1n6qKfIob",
        "outputId": "f3f7f3c4-5f0c-438d-acb8-84108e1a565a"
      },
      "source": [
        "loss_fn(y_train[:1], predictions).numpy()"
      ],
      "execution_count": 43,
      "outputs": [
        {
          "output_type": "execute_result",
          "data": {
            "text/plain": [
              "2.1232316"
            ]
          },
          "metadata": {
            "tags": []
          },
          "execution_count": 43
        }
      ]
    },
    {
      "cell_type": "code",
      "metadata": {
        "id": "QsQmVAhafSxi"
      },
      "source": [
        "model.compile(optimizer='adam',\n",
        "              loss=loss_fn,\n",
        "              metrics=['accuracy'])"
      ],
      "execution_count": 44,
      "outputs": []
    },
    {
      "cell_type": "code",
      "metadata": {
        "colab": {
          "base_uri": "https://localhost:8080/"
        },
        "id": "HoWqzpERfeFQ",
        "outputId": "a22858ca-8704-4d4c-d311-1e83479e44d3"
      },
      "source": [
        "model.fit(x_train, y_train, epochs=5)"
      ],
      "execution_count": 45,
      "outputs": [
        {
          "output_type": "stream",
          "text": [
            "Epoch 1/5\n",
            "1875/1875 [==============================] - 3s 2ms/step - loss: 0.2975 - accuracy: 0.9146\n",
            "Epoch 2/5\n",
            "1875/1875 [==============================] - 3s 2ms/step - loss: 0.1458 - accuracy: 0.9576\n",
            "Epoch 3/5\n",
            "1875/1875 [==============================] - 3s 2ms/step - loss: 0.1120 - accuracy: 0.9658\n",
            "Epoch 4/5\n",
            "1875/1875 [==============================] - 3s 2ms/step - loss: 0.0906 - accuracy: 0.9719\n",
            "Epoch 5/5\n",
            "1875/1875 [==============================] - 3s 2ms/step - loss: 0.0771 - accuracy: 0.9761\n"
          ],
          "name": "stdout"
        },
        {
          "output_type": "execute_result",
          "data": {
            "text/plain": [
              "<tensorflow.python.keras.callbacks.History at 0x7f9c6ac075f8>"
            ]
          },
          "metadata": {
            "tags": []
          },
          "execution_count": 45
        }
      ]
    },
    {
      "cell_type": "code",
      "metadata": {
        "colab": {
          "base_uri": "https://localhost:8080/"
        },
        "id": "IWwgklNUfnPF",
        "outputId": "5af6cf0d-a35c-442e-b0c0-b2128f4cd802"
      },
      "source": [
        "model.evaluate(x_test, y_test, verbose=2)"
      ],
      "execution_count": 46,
      "outputs": [
        {
          "output_type": "stream",
          "text": [
            "313/313 - 0s - loss: 0.0761 - accuracy: 0.9771\n"
          ],
          "name": "stdout"
        },
        {
          "output_type": "execute_result",
          "data": {
            "text/plain": [
              "[0.07611463218927383, 0.9771000146865845]"
            ]
          },
          "metadata": {
            "tags": []
          },
          "execution_count": 46
        }
      ]
    },
    {
      "cell_type": "code",
      "metadata": {
        "id": "9M-Zqo3-gr7b"
      },
      "source": [
        "probability_model = tf.keras.Sequential([\n",
        "                                         model, tf.keras.layers.Softmax()\n",
        "])"
      ],
      "execution_count": 47,
      "outputs": []
    },
    {
      "cell_type": "code",
      "metadata": {
        "colab": {
          "base_uri": "https://localhost:8080/"
        },
        "id": "hW11pueDjj40",
        "outputId": "3ee11da8-908b-4957-df9f-cb426dfbead1"
      },
      "source": [
        "probability_model(x_test[:5])"
      ],
      "execution_count": 48,
      "outputs": [
        {
          "output_type": "execute_result",
          "data": {
            "text/plain": [
              "<tf.Tensor: shape=(5, 10), dtype=float32, numpy=\n",
              "array([[2.7855140e-07, 2.5014828e-09, 5.4456564e-06, 1.0821015e-04,\n",
              "        1.8998897e-10, 3.6359276e-07, 6.1670883e-14, 9.9988270e-01,\n",
              "        1.7442752e-06, 1.2227542e-06],\n",
              "       [1.0142083e-07, 5.8346912e-05, 9.9986398e-01, 6.0274757e-05,\n",
              "        5.8709055e-16, 8.7426216e-08, 9.9727977e-08, 4.1358190e-14,\n",
              "        1.7002054e-05, 2.5068511e-10],\n",
              "       [9.7573206e-07, 9.9506122e-01, 2.4925102e-04, 2.0023997e-05,\n",
              "        3.6106288e-05, 5.2405912e-06, 5.1370316e-05, 4.0827082e-03,\n",
              "        4.9110426e-04, 1.9548922e-06],\n",
              "       [9.9990034e-01, 5.5471577e-10, 3.2851396e-05, 3.6718765e-07,\n",
              "        8.7152569e-07, 1.5261248e-06, 1.5757387e-05, 1.0643289e-05,\n",
              "        9.1750570e-07, 3.6750684e-05],\n",
              "       [4.0041727e-05, 7.0835135e-08, 6.6390916e-05, 3.2153191e-06,\n",
              "        9.7577447e-01, 1.3908438e-05, 1.6333837e-06, 4.5695459e-04,\n",
              "        9.4834868e-05, 2.3548480e-02]], dtype=float32)>"
            ]
          },
          "metadata": {
            "tags": []
          },
          "execution_count": 48
        }
      ]
    },
    {
      "cell_type": "code",
      "metadata": {
        "id": "edjbTEnWjos4"
      },
      "source": [
        ""
      ],
      "execution_count": null,
      "outputs": []
    }
  ]
}
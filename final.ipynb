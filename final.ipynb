{
 "cells": [
  {
   "cell_type": "code",
   "execution_count": null,
   "metadata": {},
   "outputs": [],
   "source": [
    "import tensorflow as tf\n",
    "\n",
    "model = tf.keras.Sequential([...])\n",
    "#pick your favourite optimizer\n",
    "optimizer = tf.keras.optimizer.SGD()\n",
    "\n",
    "while True: look forever\n",
    "    #forward pass through the network\n",
    "    prediction = model(x)\n",
    "    \n",
    "    with tf.GradientTape() as tape:\n",
    "        #compute the loss\n",
    "        loss = compute_loss(y, prediction)\n",
    "    \n",
    "    #update the weights using the gradient\n",
    "    grands = tape.gradient(loss, model.trainable_variables)\n",
    "    optimizer.apply_gradients(zip(grads, model.trainable_varibales))"
   ]
  }
 ],
 "metadata": {
  "kernelspec": {
   "display_name": "Python 3",
   "language": "python",
   "name": "python3"
  },
  "language_info": {
   "codemirror_mode": {
    "name": "ipython",
    "version": 3
   },
   "file_extension": ".py",
   "mimetype": "text/x-python",
   "name": "python",
   "nbconvert_exporter": "python",
   "pygments_lexer": "ipython3",
   "version": "3.8.5"
  }
 },
 "nbformat": 4,
 "nbformat_minor": 4
}
